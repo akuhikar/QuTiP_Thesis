{
 "cells": [
  {
   "cell_type": "code",
   "execution_count": 1,
   "metadata": {},
   "outputs": [],
   "source": [
    "from qutip import *\n",
    "from qutip.qip.operations import *\n",
    "import numpy as np\n",
    "import matplotlib.pyplot as plt\n",
    "%matplotlib inline"
   ]
  },
  {
   "cell_type": "code",
   "execution_count": 2,
   "metadata": {},
   "outputs": [],
   "source": [
    "#brute force the alpha beta, no lindblad evolution"
   ]
  },
  {
   "cell_type": "markdown",
   "metadata": {},
   "source": [
    "# Creating arbitrary state"
   ]
  },
  {
   "cell_type": "code",
   "execution_count": 3,
   "metadata": {
    "scrolled": true
   },
   "outputs": [],
   "source": [
    "#def genstate():\n",
    "    #every run of this cell will generate new alpha beta\n",
    "#    alpha = np.random.random()\n",
    "#    beta = np.sqrt(1-alpha**2)\n",
    "#    print('alpha =',alpha)#, '\\nbeta =', beta), '\\ncheck=', alpha**2+beta**2)\n",
    "#    return(alpha, beta)\n"
   ]
  },
  {
   "cell_type": "code",
   "execution_count": 4,
   "metadata": {},
   "outputs": [
    {
     "name": "stdout",
     "output_type": "stream",
     "text": [
      "alpha = 0.61236854025029\n"
     ]
    }
   ],
   "source": [
    "#every run of this cell will generate new alpha beta\n",
    "alpha = np.random.random()\n",
    "beta = np.sqrt(1-alpha**2)\n",
    "print('alpha =',alpha)#, '\\nbeta =', beta), '\\ncheck=', alpha**2+beta**2)"
   ]
  },
  {
   "cell_type": "code",
   "execution_count": 5,
   "metadata": {},
   "outputs": [
    {
     "data": {
      "text/plain": [
       "0.7905724324258524"
      ]
     },
     "execution_count": 5,
     "metadata": {},
     "output_type": "execute_result"
    }
   ],
   "source": [
    "beta"
   ]
  },
  {
   "cell_type": "code",
   "execution_count": 6,
   "metadata": {},
   "outputs": [],
   "source": [
    "#creating sys env joint state psi\n",
    "e = basis(2,1)\n",
    "g = basis(2,0)\n",
    "sys = (alpha*basis(2,0) + beta*basis(2,1)).unit()\n",
    "env = basis(2,0)\n",
    "psi = tensor(sys,g)\n",
    "rho = psi*psi.dag()"
   ]
  },
  {
   "cell_type": "code",
   "execution_count": null,
   "metadata": {},
   "outputs": [],
   "source": []
  },
  {
   "cell_type": "markdown",
   "metadata": {},
   "source": [
    "# Making Zs operator and SWAP"
   ]
  },
  {
   "cell_type": "code",
   "execution_count": 134,
   "metadata": {},
   "outputs": [],
   "source": [
    "#Zs operator\n",
    "theta = 0.01\n",
    "#weak_sz = np.exp(np.imag*sigmaz()*theta/2)\n",
    "weak_sz = qeye(2) * np.cos(theta/2) + 1*sigmaz() * np.sin(theta/2)\n",
    "Z = tensor(weak_sz, qeye(2))\n",
    "\n",
    "#Ucnot operator\n",
    "weak_sw = tensor(qeye(2),qeye(2)) * np.cos(theta) + 1* swap() * np.sin(theta)\n",
    "\n",
    "#Hamiltonian\n",
    "H = Z*weak_sw"
   ]
  },
  {
   "cell_type": "markdown",
   "metadata": {},
   "source": [
    "# Measurement operators"
   ]
  },
  {
   "cell_type": "code",
   "execution_count": 135,
   "metadata": {},
   "outputs": [],
   "source": [
    "\n",
    "proj0 = g * g.dag()\n",
    "proj1 = e * e.dag()\n",
    "\n",
    "#operators used to change state to post measurement state\n",
    "m0 = tensor(qeye(2), proj0)\n",
    "m1 = tensor(qeye(2), proj1)\n",
    "\n",
    "#operators used to find prob of alpha,beta\n",
    "n0 = tensor(proj0, qeye(2))\n",
    "n1 = tensor(proj1, qeye(2))\n",
    "#psiH for practice, can delete later\n",
    "psiH = (H*psi).unit()\n"
   ]
  },
  {
   "cell_type": "code",
   "execution_count": 136,
   "metadata": {},
   "outputs": [
    {
     "data": {
      "text/latex": [
       "Quantum object: dims = [[2, 2], [1, 1]], shape = (4, 1), type = ket\\begin{equation*}\\left(\\begin{array}{*{11}c}0.268\\\\0.010\\\\0.963\\\\0.0\\\\\\end{array}\\right)\\end{equation*}"
      ],
      "text/plain": [
       "Quantum object: dims = [[2, 2], [1, 1]], shape = (4, 1), type = ket\n",
       "Qobj data =\n",
       "[[0.26755502]\n",
       " [0.00973209]\n",
       " [0.96349343]\n",
       " [0.        ]]"
      ]
     },
     "execution_count": 136,
     "metadata": {},
     "output_type": "execute_result"
    }
   ],
   "source": [
    "psiH"
   ]
  },
  {
   "cell_type": "code",
   "execution_count": 137,
   "metadata": {},
   "outputs": [
    {
     "data": {
      "text/latex": [
       "Quantum object: dims = [[2, 2], [1, 1]], shape = (4, 1), type = ket\\begin{equation*}\\left(\\begin{array}{*{11}c}0.268\\\\0.0\\\\0.963\\\\0.0\\\\\\end{array}\\right)\\end{equation*}"
      ],
      "text/plain": [
       "Quantum object: dims = [[2, 2], [1, 1]], shape = (4, 1), type = ket\n",
       "Qobj data =\n",
       "[[0.26755502]\n",
       " [0.        ]\n",
       " [0.96349343]\n",
       " [0.        ]]"
      ]
     },
     "execution_count": 137,
     "metadata": {},
     "output_type": "execute_result"
    }
   ],
   "source": [
    "m0*psiH"
   ]
  },
  {
   "cell_type": "code",
   "execution_count": 138,
   "metadata": {},
   "outputs": [
    {
     "data": {
      "text/latex": [
       "Quantum object: dims = [[2, 2], [1, 1]], shape = (4, 1), type = ket\\begin{equation*}\\left(\\begin{array}{*{11}c}0.0\\\\0.010\\\\0.0\\\\0.0\\\\\\end{array}\\right)\\end{equation*}"
      ],
      "text/plain": [
       "Quantum object: dims = [[2, 2], [1, 1]], shape = (4, 1), type = ket\n",
       "Qobj data =\n",
       "[[0.        ]\n",
       " [0.00973209]\n",
       " [0.        ]\n",
       " [0.        ]]"
      ]
     },
     "execution_count": 138,
     "metadata": {},
     "output_type": "execute_result"
    }
   ],
   "source": [
    "m1*psiH"
   ]
  },
  {
   "cell_type": "markdown",
   "metadata": {},
   "source": [
    "# Creating post measurement state for each possible outcome and tensoring new env qubit and repeating."
   ]
  },
  {
   "cell_type": "code",
   "execution_count": 139,
   "metadata": {},
   "outputs": [],
   "source": [
    "p0 = 0\n",
    "p1 = 0"
   ]
  },
  {
   "cell_type": "code",
   "execution_count": 140,
   "metadata": {},
   "outputs": [
    {
     "data": {
      "text/plain": [
       "0.943317"
      ]
     },
     "execution_count": 140,
     "metadata": {},
     "output_type": "execute_result"
    }
   ],
   "source": [
    "0.969**2+0.066**2"
   ]
  },
  {
   "cell_type": "code",
   "execution_count": 141,
   "metadata": {},
   "outputs": [
    {
     "data": {
      "text/plain": [
       "0.9999052863643455"
      ]
     },
     "execution_count": 141,
     "metadata": {},
     "output_type": "execute_result"
    }
   ],
   "source": [
    "p0 = expect(m0,psiH)\n",
    "p0"
   ]
  },
  {
   "cell_type": "code",
   "execution_count": 142,
   "metadata": {},
   "outputs": [
    {
     "data": {
      "text/plain": [
       "9.471363565463503e-05"
      ]
     },
     "execution_count": 142,
     "metadata": {},
     "output_type": "execute_result"
    }
   ],
   "source": [
    "p1 = expect(m1,psiH)\n",
    "p1"
   ]
  },
  {
   "cell_type": "code",
   "execution_count": 143,
   "metadata": {},
   "outputs": [
    {
     "data": {
      "text/plain": [
       "0.164836"
      ]
     },
     "execution_count": 143,
     "metadata": {},
     "output_type": "execute_result"
    }
   ],
   "source": [
    "0.406**2"
   ]
  },
  {
   "cell_type": "code",
   "execution_count": 152,
   "metadata": {},
   "outputs": [],
   "source": [
    "arr_e0_s0 = []\n",
    "arr_e0_s1 = []\n",
    "arr_e1_s0 = []\n",
    "arr_e1_s1 = []\n",
    "\n",
    "tlist = []\n",
    "psit0 = psi\n",
    "\n",
    "#set probs, based on probs do evolution of state. Currently state evolves with m0 by default and thats how a and b are \n",
    "#being calculated\n",
    "n = 500\n",
    "for i in range(0,n):\n",
    "    tlist = tlist + [i]\n",
    "    #expectation value of m0 and m1\n",
    "    #interact with ZUcnot\n",
    "    psiH = (H*psit0).unit()\n",
    "    #prob of no jump and yes jump\n",
    "    p0 = expect(m0,psiH)\n",
    "    p1 = 1-p0\n",
    "    #create RNG number r\n",
    "    r = np.random.random()\n",
    "    #no jump case\n",
    "    if(r<p0):\n",
    "        #measure env 0, new state with env 0\n",
    "        psit0 = (m0*psiH).unit()\n",
    "        #measure sys 0\n",
    "        e0_s0 = expect(n0,psit0)\n",
    "        arr_e0_s0 = arr_e0_s0 + [e0_s0]\n",
    "        #measure sys 1\n",
    "        e0_s1 = expect(n1,psit0)\n",
    "        arr_e0_s1 = arr_e0_s1 + [e0_s1]\n",
    "        psit0 = tensor((psit0[0][0][0]*g + psit0[2][0][0]*e), g) \n",
    "        continue\n",
    "    else:\n",
    "        #measure env 1, new state w env 1\n",
    "        psit0 = (m1*psiH).unit()\n",
    "        #measure sys 0\n",
    "        e1_s0 = expect(n0,psit0)\n",
    "        arr_e0_s0 = arr_e0_s0 + [e1_s0]\n",
    "        #measure sys 1\n",
    "        e1_s1 = expect(n1,psit0)\n",
    "        arr_e0_s1 = arr_e0_s1 + [e1_s1]\n",
    "        break\n",
    "    #reinitialize, adds new env qubit"
   ]
  },
  {
   "cell_type": "code",
   "execution_count": 153,
   "metadata": {},
   "outputs": [],
   "source": [
    "#print(e0_s0, '\\n', e0_s1, '\\n', e1_s0, '\\n', e1_s1, '\\n', psi0, psi1, psiH)"
   ]
  },
  {
   "cell_type": "code",
   "execution_count": 7,
   "metadata": {
    "scrolled": true
   },
   "outputs": [
    {
     "data": {
      "text/plain": [
       "[0,\n",
       " 0,\n",
       " 0,\n",
       " 0,\n",
       " 0,\n",
       " 0,\n",
       " 0,\n",
       " 0,\n",
       " 0,\n",
       " 0,\n",
       " 0,\n",
       " 0,\n",
       " 0,\n",
       " 0,\n",
       " 0,\n",
       " 0,\n",
       " 0,\n",
       " 0,\n",
       " 0,\n",
       " 0,\n",
       " 0,\n",
       " 0,\n",
       " 0,\n",
       " 0,\n",
       " 0,\n",
       " 0,\n",
       " 0,\n",
       " 0,\n",
       " 0,\n",
       " 0,\n",
       " 0,\n",
       " 0,\n",
       " 0,\n",
       " 0,\n",
       " 0,\n",
       " 0,\n",
       " 0,\n",
       " 0,\n",
       " 0,\n",
       " 0,\n",
       " 0,\n",
       " 0,\n",
       " 0,\n",
       " 0,\n",
       " 0,\n",
       " 0,\n",
       " 0,\n",
       " 0,\n",
       " 0,\n",
       " 0,\n",
       " 0,\n",
       " 0,\n",
       " 0,\n",
       " 0,\n",
       " 0,\n",
       " 0,\n",
       " 0,\n",
       " 0,\n",
       " 0,\n",
       " 0,\n",
       " 0,\n",
       " 0,\n",
       " 0,\n",
       " 0,\n",
       " 0,\n",
       " 0,\n",
       " 0,\n",
       " 0,\n",
       " 0,\n",
       " 0,\n",
       " 0,\n",
       " 0,\n",
       " 0,\n",
       " 0,\n",
       " 0,\n",
       " 0,\n",
       " 0,\n",
       " 0,\n",
       " 0,\n",
       " 0,\n",
       " 0,\n",
       " 0,\n",
       " 0,\n",
       " 0,\n",
       " 0,\n",
       " 0,\n",
       " 0,\n",
       " 0,\n",
       " 0,\n",
       " 0,\n",
       " 0,\n",
       " 0,\n",
       " 0,\n",
       " 0,\n",
       " 0,\n",
       " 0,\n",
       " 0,\n",
       " 0,\n",
       " 0,\n",
       " 0]"
      ]
     },
     "execution_count": 7,
     "metadata": {},
     "output_type": "execute_result"
    }
   ],
   "source": [
    "[0]*100"
   ]
  },
  {
   "cell_type": "code",
   "execution_count": 154,
   "metadata": {},
   "outputs": [
    {
     "data": {
      "text/plain": [
       "True"
      ]
     },
     "execution_count": 154,
     "metadata": {},
     "output_type": "execute_result"
    }
   ],
   "source": [
    "r<p0"
   ]
  },
  {
   "cell_type": "code",
   "execution_count": 155,
   "metadata": {},
   "outputs": [
    {
     "data": {
      "text/plain": [
       "0.5579341252054241"
      ]
     },
     "execution_count": 155,
     "metadata": {},
     "output_type": "execute_result"
    }
   ],
   "source": [
    "r"
   ]
  },
  {
   "cell_type": "code",
   "execution_count": 156,
   "metadata": {},
   "outputs": [
    {
     "data": {
      "text/plain": [
       "500"
      ]
     },
     "execution_count": 156,
     "metadata": {},
     "output_type": "execute_result"
    }
   ],
   "source": [
    "len(tlist)"
   ]
  },
  {
   "cell_type": "code",
   "execution_count": 157,
   "metadata": {
    "scrolled": true
   },
   "outputs": [
    {
     "data": {
      "text/plain": [
       "[0.928407532031323,\n",
       " 0.9257096287864683,\n",
       " 0.9229184983364933,\n",
       " 0.920031562386239,\n",
       " 0.9170462203803544,\n",
       " 0.913959853475048,\n",
       " 0.9107698288752802,\n",
       " 0.9074735045510194,\n",
       " 0.9040682343452758,\n",
       " 0.9005513734855979,\n",
       " 0.8969202845094052,\n",
       " 0.8931723436120116,\n",
       " 0.8893049474244548,\n",
       " 0.8853155202261982,\n",
       " 0.881201521595503,\n",
       " 0.876960454497681,\n",
       " 0.8725898738085891,\n",
       " 0.8680873952675777,\n",
       " 0.8634507048506355,\n",
       " 0.8586775685507612,\n",
       " 0.8537658425485372,\n",
       " 0.8487134837515935,\n",
       " 0.8435185606770623,\n",
       " 0.8381792646463384,\n",
       " 0.8326939212564122,\n",
       " 0.8270610020868705,\n",
       " 0.8212791365963029,\n",
       " 0.8153471241564351,\n",
       " 0.8092639461668514,\n",
       " 0.8030287781877283,\n",
       " 0.7966410020226803,\n",
       " 0.7901002176786432,\n",
       " 0.7834062551248282,\n",
       " 0.7765591857682126,\n",
       " 0.769559333558899,\n",
       " 0.7624072856350972,\n",
       " 0.7551039024144816,\n",
       " 0.7476503270364583,\n",
       " 0.7400479940584245,\n",
       " 0.7322986373085897,\n",
       " 0.7244042967983942,\n",
       " 0.7163673245991155,\n",
       " 0.7081903895899162,\n",
       " 0.6998764809884775,\n",
       " 0.6914289105804453,\n",
       " 0.68285131357028,\n",
       " 0.6741476479836991,\n",
       " 0.6653221925607283,\n",
       " 0.656379543088413,\n",
       " 0.6473246071333743,\n",
       " 0.638162597146587,\n",
       " 0.6288990219258527,\n",
       " 0.6195396764353357,\n",
       " 0.6100906299960438,\n",
       " 0.6005582128761093,\n",
       " 0.5909490013249503,\n",
       " 0.581269801110677,\n",
       " 0.5715276296352102,\n",
       " 0.5617296967163019,\n",
       " 0.551883384139751,\n",
       " 0.5419962240983636,\n",
       " 0.532075876646414,\n",
       " 0.5221301063093204,\n",
       " 0.5121667579977469,\n",
       " 0.5021937323832641,\n",
       " 0.49221896089885936,\n",
       " 0.48225038053191555,\n",
       " 0.47229590857967213,\n",
       " 0.4623634175376222,\n",
       " 0.45246071028975443,\n",
       " 0.4425954957660697,\n",
       " 0.43277536522743354,\n",
       " 0.42300776933066664,\n",
       " 0.4132999961179524,\n",
       " 0.4036591500643017,\n",
       " 0.394092132305138,\n",
       " 0.3846056221532406,\n",
       " 0.3752060600005289,\n",
       " 0.3658996316856927,\n",
       " 0.3566922543937096,\n",
       " 0.3475895641380573,\n",
       " 0.33859690486115357,\n",
       " 0.32971931917344743,\n",
       " 0.3209615407368467,\n",
       " 0.3123279882839746,\n",
       " 0.30382276125129104,\n",
       " 0.2954496369915014,\n",
       " 0.2872120695190687,\n",
       " 0.2791131897321149,\n",
       " 0.2711558070446353,\n",
       " 0.2633424123548013,\n",
       " 0.2556751822682259,\n",
       " 0.2481559844894201,\n",
       " 0.2407863842902511,\n",
       " 0.2335676519610258,\n",
       " 0.22650077114777767,\n",
       " 0.21958644797840807,\n",
       " 0.21282512088042138,\n",
       " 0.2062169709940408,\n",
       " 0.1997619330863898,\n",
       " 0.19345970687508982,\n",
       " 0.18730976867296042,\n",
       " 0.18131138326941232,\n",
       " 0.175463615968508,\n",
       " 0.16976534470842908,\n",
       " 0.1642152721921467,\n",
       " 0.15881193796436288,\n",
       " 0.153553730375182,\n",
       " 0.14843889837643498,\n",
       " 0.14346556310202127,\n",
       " 0.13863172918901684,\n",
       " 0.1339352958015649,\n",
       " 0.12937406732466628,\n",
       " 0.12494576369989246,\n",
       " 0.12064803037972457,\n",
       " 0.11647844788164143,\n",
       " 0.11243454092723507,\n",
       " 0.10851378715550254,\n",
       " 0.1047136254030381,\n",
       " 0.10103146354713352,\n",
       " 0.09746468591078288,\n",
       " 0.09401066023128445,\n",
       " 0.09066674419654591,\n",
       " 0.08743029155533599,\n",
       " 0.08429865780960291,\n",
       " 0.08126920549859903,\n",
       " 0.07833930908594143,\n",
       " 0.07550635946189867,\n",
       " 0.0727677680741509,\n",
       " 0.07012097070103725,\n",
       " 0.06756343088188953,\n",
       " 0.06509264301948185,\n",
       " 0.06270613516990768,\n",
       " 0.06040147153534645,\n",
       " 0.05817625467521759,\n",
       " 0.05602812745115123,\n",
       " 0.053954774721045505,\n",
       " 0.05195392479724184,\n",
       " 0.05002335068354535,\n",
       " 0.048160871105454146,\n",
       " 0.04636435134755034,\n",
       " 0.044631703911557324,\n",
       " 0.04296088900808637,\n",
       " 0.04134991489459178,\n",
       " 0.03979683807153173,\n",
       " 0.038299763348198575,\n",
       " 0.03685684378914246,\n",
       " 0.03546628055156968,\n",
       " 0.03412632262355778,\n",
       " 0.03283526647239358,\n",
       " 0.03159145561181457,\n",
       " 0.030393280096417594,\n",
       " 0.02923917595099583,\n",
       " 0.02812762454207632,\n",
       " 0.027057151898457473,\n",
       " 0.02602632798708988,\n",
       " 0.02503376595020549,\n",
       " 0.02407812130918042,\n",
       " 0.023158091140215036,\n",
       " 0.022272413226532187,\n",
       " 0.021419865191431568,\n",
       " 0.020599263616191795,\n",
       " 0.0198094631464865,\n",
       " 0.0190493555906716,\n",
       " 0.01831786901301034,\n",
       " 0.017613966824629377,\n",
       " 0.016936646874742615,\n",
       " 0.016284940544438634,\n",
       " 0.01565791184510291,\n",
       " 0.0150546565233359,\n",
       " 0.01447430117403216,\n",
       " 0.013916002363103993,\n",
       " 0.01337894576116326,\n",
       " 0.01286234528931911,\n",
       " 0.012365442278103591,\n",
       " 0.011887504640403276,\n",
       " 0.011427826059151694,\n",
       " 0.010985725190423302,\n",
       " 0.010560544882465417,\n",
       " 0.01015165141110875,\n",
       " 0.009758433731909566,\n",
       " 0.009380302749296363,\n",
       " 0.009016690602921481,\n",
       " 0.008667049971351414,\n",
       " 0.008330853393170013,\n",
       " 0.008007592605514292,\n",
       " 0.00769677790001397,\n",
       " 0.0073979374960618325,\n",
       " 0.007110616931302838,\n",
       " 0.0068343784691949775,\n",
       " 0.006568800523463942,\n",
       " 0.006313477099245978,\n",
       " 0.006068017250689755,\n",
       " 0.0058320445547667184,\n",
       " 0.005605196601021613,\n",
       " 0.00538712449697911,\n",
       " 0.005177492388909571,\n",
       " 0.004975976997645887,\n",
       " 0.004782267169134389,\n",
       " 0.004596063439395755,\n",
       " 0.0044170776135661815,\n",
       " 0.004245032358685147,\n",
       " 0.004079660809893389,\n",
       " 0.00392070618970321,\n",
       " 0.003767921440002851,\n",
       " 0.0036210688664573016,\n",
       " 0.003479919794969342,\n",
       " 0.003344254239866867,\n",
       " 0.003213860583485493,\n",
       " 0.003088535266819035,\n",
       " 0.0029680824909144587,\n",
       " 0.002852313928692524,\n",
       " 0.002741048446880309,\n",
       " 0.002634111837747076,\n",
       " 0.002531336560340613,\n",
       " 0.0024325614909269924,\n",
       " 0.002337631682342806,\n",
       " 0.0022463981319751506,\n",
       " 0.0021587175580910336,\n",
       " 0.0020744521842443204,\n",
       " 0.0019934695314949035,\n",
       " 0.001915642218181361,\n",
       " 0.0018408477669950055,\n",
       " 0.0017689684191097947,\n",
       " 0.00169989095512921,\n",
       " 0.0016335065226177618,\n",
       " 0.0015697104699912711,\n",
       " 0.001508402186546553,\n",
       " 0.001449484948417481,\n",
       " 0.001392865770250716,\n",
       " 0.0013384552624005528,\n",
       " 0.0012861674934484606,\n",
       " 0.0012359198578588747,\n",
       " 0.0011876329485886407,\n",
       " 0.0011412304344733208,\n",
       " 0.0010966389422191534,\n",
       " 0.0010537879428350048,\n",
       " 0.001012609642344026,\n",
       " 0.0009730388766199717,\n",
       " 0.0009350130101982789,\n",
       " 0.0008984718389170095,\n",
       " 0.0008633574962475864,\n",
       " 0.0008296143631800444,\n",
       " 0.0007971889815320817,\n",
       " 0.0007660299705557013,\n",
       " 0.0007360879467195692,\n",
       " 0.0007073154465494477,\n",
       " 0.0006796668524131727,\n",
       " 0.0006530983211406015,\n",
       " 0.0006275677153728345,\n",
       " 0.0006030345375387477,\n",
       " 0.0005794598663604927,\n",
       " 0.0005568062957931376,\n",
       " 0.0005350378763070113,\n",
       " 0.0005141200584246094,\n",
       " 0.0004940196384270993,\n",
       " 0.0004747047061485376,\n",
       " 0.00045614459477888816,\n",
       " 0.00043830983259981435,\n",
       " 0.0004211720965799822,\n",
       " 0.00040470416775932,\n",
       " 0.0003888798883542498,\n",
       " 0.00037367412051843334,\n",
       " 0.0003590627066959827,\n",
       " 0.0003450224315064212,\n",
       " 0.00033153098510294314,\n",
       " 0.000318566927947684,\n",
       " 0.0003061096569498247,\n",
       " 0.00029413937291436205,\n",
       " 0.00028263704925134744,\n",
       " 0.00027158440189726444,\n",
       " 0.00026096386040203674,\n",
       " 0.000250758540136912,\n",
       " 0.0002409522155801432,\n",
       " 0.00023152929463902955,\n",
       " 0.00022247479396842774,\n",
       " 0.00021377431524737347,\n",
       " 0.00020541402237689093,\n",
       " 0.00019738061956347855,\n",
       " 0.0001896613302541047,\n",
       " 0.00018224387688985008,\n",
       " 0.00017511646144658053,\n",
       " 0.00016826774673224363,\n",
       " 0.00016168683841154223,\n",
       " 0.000155363267729851,\n",
       " 0.00014928697490932622,\n",
       " 0.00014344829319118616,\n",
       " 0.00013783793349914084,\n",
       " 0.00013244696969990857,\n",
       " 0.00012726682443767965,\n",
       " 0.00012228925552027495,\n",
       " 0.00011750634283560536,\n",
       " 0.0001129104757778573,\n",
       " 0.00010849434116362434,\n",
       " 0.0001042509116189634,\n",
       " 0.00010017343441909083,\n",
       " 9.625542076313484e-05,\n",
       " 9.249063546704204e-05,\n",
       " 8.887308705838618e-05,\n",
       " 8.539701825745567e-05,\n",
       " 8.205689682960112e-05,\n",
       " 7.884740679440206e-05,\n",
       " 7.576343997777355e-05,\n",
       " 7.280008789366825e-05,\n",
       " 6.995263394254712e-05,\n",
       " 6.721654591428809e-05,\n",
       " 6.458746878368076e-05,\n",
       " 6.206121778711244e-05,\n",
       " 5.963377176949528e-05,\n",
       " 5.7301266790907026e-05,\n",
       " 5.505998998282679e-05,\n",
       " 5.2906373644240214e-05,\n",
       " 5.083698956826599e-05,\n",
       " 4.884854359031827e-05,\n",
       " 4.693787034916902e-05,\n",
       " 4.510192825260943e-05,\n",
       " 4.3337794639732734e-05,\n",
       " 4.1642661132170256e-05,\n",
       " 4.0013829166911006e-05,\n",
       " 3.844870570362211e-05,\n",
       " 3.6944799099661886e-05,\n",
       " 3.549971514624366e-05,\n",
       " 3.4111153259461836e-05,\n",
       " 3.277690282013684e-05,\n",
       " 3.1494839656671686e-05,\n",
       " 3.0262922665337636e-05,\n",
       " 2.907919056262487e-05,\n",
       " 2.7941758764502786e-05,\n",
       " 2.6848816387635304e-05,\n",
       " 2.579862336778966e-05,\n",
       " 2.4789507690862728e-05,\n",
       " 2.3819862732127505e-05,\n",
       " 2.2888144699473207e-05,\n",
       " 2.1992870176578104e-05,\n",
       " 2.1132613762111752e-05,\n",
       " 2.0306005801216036e-05,\n",
       " 1.951173020566029e-05,\n",
       " 1.8748522359206983e-05,\n",
       " 1.8015167104858924e-05,\n",
       " 1.7310496810789033e-05,\n",
       " 1.6633389511879044e-05,\n",
       " 1.5982767123912604e-05,\n",
       " 1.5357593727584196e-05,\n",
       " 1.4756873919595753e-05,\n",
       " 1.417965122821961e-05,\n",
       " 1.3625006590808422e-05,\n",
       " 1.3092056890831333e-05,\n",
       " 1.257995355211007e-05,\n",
       " 1.2087881188019454e-05,\n",
       " 1.1615056303504126e-05,\n",
       " 1.1160726047847223e-05,\n",
       " 1.0724167016207358e-05,\n",
       " 1.0304684098017608e-05,\n",
       " 9.901609370414831e-06,\n",
       " 9.51430103493913e-06,\n",
       " 9.142142395811923e-06,\n",
       " 8.784540878167408e-06,\n",
       " 8.440927084675418e-06,\n",
       " 8.11075388905494e-06,\n",
       " 7.793495565035973e-06,\n",
       " 7.488646949383992e-06,\n",
       " 7.1957226376552565e-06,\n",
       " 6.9142562114032865e-06,\n",
       " 6.643799495606891e-06,\n",
       " 6.383921845138136e-06,\n",
       " 6.134209459134793e-06,\n",
       " 5.894264722186274e-06,\n",
       " 5.6637055712845985e-06,\n",
       " 5.442164887532982e-06,\n",
       " 5.229289911644e-06,\n",
       " 5.024741682297061e-06,\n",
       " 4.828194496461444e-06,\n",
       " 4.639335390825825e-06,\n",
       " 4.457863643509105e-06,\n",
       " 4.28349029525937e-06,\n",
       " 4.11593768937892e-06,\n",
       " 3.954939029643151e-06,\n",
       " 3.800237955509535e-06,\n",
       " 3.6515881339406254e-06,\n",
       " 3.5087528671913807e-06,\n",
       " 3.371504715936432e-06,\n",
       " 3.239625137137476e-06,\n",
       " 3.1129041360742916e-06,\n",
       " 2.9911399319855035e-06,\n",
       " 2.8741386367868247e-06,\n",
       " 2.7617139463553555e-06,\n",
       " 2.6536868438884926e-06,\n",
       " 2.54988531486522e-06,\n",
       " 2.450144073156031e-06,\n",
       " 2.3543042978454573e-06,\n",
       " 2.262213380348244e-06,\n",
       " 2.1737246814165764e-06,\n",
       " 2.0886972976515435e-06,\n",
       " 2.006995837147084e-06,\n",
       " 1.928490203909274e-06,\n",
       " 1.853055390707733e-06,\n",
       " 1.7805712800293433e-06,\n",
       " 1.7109224528174242e-06,\n",
       " 1.6439980046918241e-06,\n",
       " 1.5796913693573755e-06,\n",
       " 1.517900148919532e-06,\n",
       " 1.458525950837051e-06,\n",
       " 1.4014742312521372e-06,\n",
       " 1.3466541444485934e-06,\n",
       " 1.2939783981983088e-06,\n",
       " 1.2433631147657852e-06,\n",
       " 1.1947276973493678e-06,\n",
       " 1.147994701746582e-06,\n",
       " 1.1030897130392036e-06,\n",
       " 1.0599412271017534e-06,\n",
       " 1.0184805367447406e-06,\n",
       " 9.786416223113842e-07,\n",
       " 9.403610465536155e-07,\n",
       " 9.035778536199895e-07,\n",
       " 8.682334719946652e-07,\n",
       " 8.342716212329273e-07,\n",
       " 8.01638222344735e-07,\n",
       " 7.702813116836252e-07,\n",
       " 7.401509582038512e-07,\n",
       " 7.111991839540184e-07,\n",
       " 6.833798876806162e-07,\n",
       " 6.566487714198169e-07,\n",
       " 6.309632699606422e-07,\n",
       " 6.062824830672019e-07,\n",
       " 5.825671103520725e-07,\n",
       " 5.597793886971251e-07,\n",
       " 5.378830321221551e-07,\n",
       " 5.168431740055746e-07,\n",
       " 4.966263115651632e-07,\n",
       " 4.772002525104769e-07,\n",
       " 4.585340637819698e-07,\n",
       " 4.4059802229521124e-07,\n",
       " 4.2336356761176306e-07,\n",
       " 4.0680325646136405e-07,\n",
       " 3.908907190429981e-07,\n",
       " 3.756006170352724e-07,\n",
       " 3.6090860324924504e-07,\n",
       " 3.467912828594532e-07,\n",
       " 3.332261761514137e-07,\n",
       " 3.201916827262806e-07,\n",
       " 3.076670471056575e-07,\n",
       " 2.95632325681802e-07,\n",
       " 2.840683549605955e-07,\n",
       " 2.7295672104670936e-07,\n",
       " 2.6227973032238266e-07,\n",
       " 2.520203812731185e-07,\n",
       " 2.421623374154398e-07,\n",
       " 2.3268990128359636e-07,\n",
       " 2.2358798943380108e-07,\n",
       " 2.1484210842619475e-07,\n",
       " 2.0643833174629566e-07,\n",
       " 1.9836327762918403e-07,\n",
       " 1.9060408775111195e-07,\n",
       " 1.8314840675460861e-07,\n",
       " 1.7598436257447684e-07,\n",
       " 1.6910054753335576e-07,\n",
       " 1.6248600017674617e-07,\n",
       " 1.5613018781857394e-07,\n",
       " 1.500229897694989e-07,\n",
       " 1.4415468122126326e-07,\n",
       " 1.3851591776141796e-07,\n",
       " 1.3309772049376836e-07,\n",
       " 1.2789146174084783e-07,\n",
       " 1.2288885130565112e-07,\n",
       " 1.1808192327075343e-07,\n",
       " 1.1346302331379333e-07,\n",
       " 1.0902479651912174e-07,\n",
       " 1.0476017566621072e-07,\n",
       " 1.0066236997617094e-07,\n",
       " 9.672485429846001e-08,\n",
       " 9.294135872056325e-08,\n",
       " 8.930585858410073e-08,\n",
       " 8.581256489146464e-08,\n",
       " 8.245591508770954e-08,\n",
       " 7.923056420301839e-08,\n",
       " 7.613137634163886e-08,\n",
       " 7.315341650373875e-08,\n",
       " 7.029194272715687e-08,\n",
       " 6.754239853653779e-08,\n",
       " 6.490040568782518e-08,\n",
       " 6.236175719656211e-08,\n",
       " 5.99224106388957e-08,\n",
       " 5.7578481714619965e-08,\n",
       " 5.53262380620067e-08,\n",
       " 5.316209331457483e-08,\n",
       " 5.108260139033583e-08,\n",
       " 4.908445100442062e-08,\n",
       " 4.716446039635063e-08,\n",
       " 4.531957226355699e-08,\n",
       " 4.354684889308021e-08,\n",
       " 4.184346748369837e-08,\n",
       " 4.020671565103498e-08,\n",
       " 3.863398710848901e-08,\n",
       " 3.7122777517109934e-08,\n",
       " 3.5670680497808926e-08,\n",
       " 3.427538379955655e-08,\n",
       " 3.293466561746552e-08,\n",
       " 3.164639105489503e-08,\n",
       " 3.040850872394381e-08,\n",
       " 2.921904747891829e-08]"
      ]
     },
     "execution_count": 157,
     "metadata": {},
     "output_type": "execute_result"
    }
   ],
   "source": [
    "arr_e0_s1"
   ]
  },
  {
   "cell_type": "code",
   "execution_count": 158,
   "metadata": {},
   "outputs": [
    {
     "data": {
      "text/plain": [
       "<matplotlib.legend.Legend at 0x17886816af0>"
      ]
     },
     "execution_count": 158,
     "metadata": {},
     "output_type": "execute_result"
    },
    {
     "data": {
      "image/png": "[encoded data removed]",
      "text/plain": [
       "<Figure size 432x288 with 1 Axes>"
      ]
     },
     "metadata": {
      "needs_background": "light"
     },
     "output_type": "display_data"
    }
   ],
   "source": [
    "plt.figure()\n",
    "plt.plot(tlist,arr_e0_s1)\n",
    "plt.title('env 0')\n",
    "plt.xlabel('tlist')\n",
    "plt.ylabel('beta**2')\n",
    "plt.legend(('s0', 's1'))"
   ]
  },
  {
   "cell_type": "code",
   "execution_count": 159,
   "metadata": {},
   "outputs": [],
   "source": [
    "# need to figure out how to introduced 2nd environment qubit onwards. \n",
    "# Not sure if mesolve or mcsolve is being used correctly\n",
    "# the state H*psi\n",
    "#figure out pre and post measurement state. then we can tensor on the next env qubit and repeat. \n",
    "#try recursion on eqn 66\n",
    "#check if measurement works by writing a simple 1/root2 0 + 1/root2 1"
   ]
  },
  {
   "cell_type": "code",
   "execution_count": null,
   "metadata": {},
   "outputs": [],
   "source": []
  },
  {
   "cell_type": "code",
   "execution_count": null,
   "metadata": {},
   "outputs": [],
   "source": []
  }
 ],
 "metadata": {
  "kernelspec": {
   "display_name": "Python 3",
   "language": "python",
   "name": "python3"
  },
  "language_info": {
   "codemirror_mode": {
    "name": "ipython",
    "version": 3
   },
   "file_extension": ".py",
   "mimetype": "text/x-python",
   "name": "python",
   "nbconvert_exporter": "python",
   "pygments_lexer": "ipython3",
   "version": "3.8.3"
  }
 },
 "nbformat": 4,
 "nbformat_minor": 4
}
