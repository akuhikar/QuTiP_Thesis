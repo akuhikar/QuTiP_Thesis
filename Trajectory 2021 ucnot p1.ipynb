{
 "cells": [
  {
   "cell_type": "code",
   "execution_count": null,
   "metadata": {},
   "outputs": [],
   "source": [
    "from qutip import *\n",
    "from qutip.qip.operations import *\n",
    "import numpy as np\n",
    "import matplotlib.pyplot as plt\n",
    "%matplotlib inline\n",
    "import matplotlib\n",
    "matplotlib.rcParams['text.usetex'] = True"
   ]
  },
  {
   "cell_type": "code",
   "execution_count": null,
   "metadata": {},
   "outputs": [],
   "source": [
    "#brute force the alpha beta, no lindblad evolution"
   ]
  },
  {
   "cell_type": "markdown",
   "metadata": {},
   "source": [
    "# Generating arbitrary alpha beta"
   ]
  },
  {
   "cell_type": "code",
   "execution_count": null,
   "metadata": {
    "scrolled": true
   },
   "outputs": [],
   "source": [
    "def genstate():\n",
    "    #every run of this cell will generate new alpha beta\n",
    "    alpha = np.random.random()\n",
    "    beta = np.sqrt(1-alpha**2)\n",
    "    #print('alpha =',alpha, '\\nbeta =', beta, '\\ncheck=', alpha**2+beta**2)\n",
    "    return(alpha, beta)\n",
    "#Note that this does not generate uniform(0,1) for beta."
   ]
  },
  {
   "cell_type": "code",
   "execution_count": null,
   "metadata": {},
   "outputs": [],
   "source": [
    "#every run of this cell will generate new alpha beta\n",
    "#alpha = 0.1 #np.random.random()\n",
    "#beta = np.sqrt(1-alpha**2)\n",
    "#print('alpha =',alpha)#, '\\nbeta =', beta), '\\ncheck=', alpha**2+beta**2)"
   ]
  },
  {
   "cell_type": "markdown",
   "metadata": {},
   "source": [
    "# Making Zs operator and Ucnot"
   ]
  },
  {
   "cell_type": "code",
   "execution_count": null,
   "metadata": {},
   "outputs": [],
   "source": [
    "#Zs operator\n",
    "theta = 0.1\n",
    "#weak_sz = np.exp(np.imag*sigmaz()*theta/2)\n",
    "weak_sz = qeye(2) * np.cos(theta/2) + 1*sigmaz() * np.sin(theta/2)\n",
    "Z = tensor(weak_sz, qeye(2))\n",
    "\n",
    "#Ucnot operator\n",
    "cx = Qobj(np.matrix('1,0,0,0 ; 0,1,0,0 ; 0,0,0,1 ; 0,0,1,0'))\n",
    "weak_cx = tensor(qeye(2),qeye(2)) * np.cos(theta) + 1* cnot() * np.sin(theta)\n",
    "\n",
    "#Hamiltonian\n",
    "H = Z*weak_cx"
   ]
  },
  {
   "cell_type": "markdown",
   "metadata": {},
   "source": [
    "# Measurement operators"
   ]
  },
  {
   "cell_type": "code",
   "execution_count": null,
   "metadata": {},
   "outputs": [],
   "source": [
    "e = basis(2,1)\n",
    "g = basis(2,0)\n",
    "\n",
    "proj0 = g * g.dag()\n",
    "proj1 = e * e.dag()\n",
    "\n",
    "#operators used to change state to post measurement state\n",
    "m0 = tensor(qeye(2), proj0)\n",
    "m1 = tensor(qeye(2), proj1)\n",
    "\n",
    "#operators used to find prob of alpha,beta\n",
    "n0 = tensor(proj0, qeye(2))\n",
    "n1 = tensor(proj1, qeye(2))"
   ]
  },
  {
   "cell_type": "code",
   "execution_count": null,
   "metadata": {},
   "outputs": [],
   "source": [
    "#creating sys env joint state psi\n",
    "alpha, beta = genstate()\n",
    "sys = (alpha*basis(2,0) + beta*basis(2,1)).unit()\n",
    "env = basis(2,0)\n",
    "psi = tensor(sys,g).unit()\n",
    "rho = psi*psi.dag()"
   ]
  },
  {
   "cell_type": "code",
   "execution_count": null,
   "metadata": {},
   "outputs": [],
   "source": [
    "print(alpha,beta)"
   ]
  },
  {
   "cell_type": "code",
   "execution_count": null,
   "metadata": {},
   "outputs": [],
   "source": [
    "theo_p1 = theta**2*beta**2\n",
    "theo_p1"
   ]
  },
  {
   "cell_type": "code",
   "execution_count": null,
   "metadata": {},
   "outputs": [],
   "source": [
    "62/100000"
   ]
  },
  {
   "cell_type": "markdown",
   "metadata": {},
   "source": [
    "# Creating post measurement state for each possible outcome and tensoring new env qubit and repeating."
   ]
  },
  {
   "cell_type": "code",
   "execution_count": null,
   "metadata": {},
   "outputs": [],
   "source": [
    "arr_of_arr = []\n",
    "count = 0\n",
    "for j in range(0,1000):\n",
    "    j = j+1\n",
    "    \n",
    "\n",
    "    ########################################\n",
    "    arr_e0_s0 = []\n",
    "    arr_e0_s1 = []\n",
    "    arr_e1_s0 = []\n",
    "    arr_e1_s1 = []\n",
    "\n",
    "    tlist = []\n",
    "    psit0 = psi\n",
    "\n",
    "    #set probs, based on probs do evolution of state. Currently state evolves with m0 by default and thats how a and b are \n",
    "    #being calculated\n",
    "    n = 20\n",
    "    for i in range(0,n):\n",
    "        tlist = tlist + [i]\n",
    "        #expectation value of m0 and m1\n",
    "        #interact with ZUcnot\n",
    "        psiH = (H*psit0).unit()\n",
    "        #prob of no jump and yes jump\n",
    "        p0 = expect(m0,psiH)\n",
    "        p1 = 1-p0\n",
    "        #create RNG number r\n",
    "        r = np.random.random()\n",
    "        #no jump case\n",
    "        if(r<p0):\n",
    "            #measure env 0, new state with env 0\n",
    "            psit0 = (m0*psiH).unit()\n",
    "            #measure sys 0\n",
    "            e0_s0 = expect(n0,psit0)\n",
    "            arr_e0_s0 = arr_e0_s0 + [e0_s0]\n",
    "            #measure sys 1\n",
    "            e0_s1 = expect(n1,psit0)\n",
    "            arr_e0_s1 = arr_e0_s1 + [e0_s1]\n",
    "            psit0 = tensor((psit0[0][0][0]*g + psit0[2][0][0]*e), g) \n",
    "            continue\n",
    "        else:\n",
    "            #measure env 1, new state w env 1\n",
    "            count = count + 1\n",
    "            psit0 = (m1*psiH).unit()\n",
    "            #measure sys 0\n",
    "            e1_s0 = expect(n0,psit0)\n",
    "            arr_e0_s0 = arr_e0_s0 + [e1_s0] + [1]*(n-i+1)\n",
    "            #measure sys 1\n",
    "            e1_s1 = expect(n1,psit0)\n",
    "            arr_e0_s1 = arr_e0_s1 + [e1_s1] + [1]*(n-i-1)\n",
    "            break\n",
    "        #reinitialize, adds new env qubit\n",
    "    arr_of_arr = arr_of_arr + [arr_e0_s1]"
   ]
  },
  {
   "cell_type": "code",
   "execution_count": null,
   "metadata": {
    "scrolled": true
   },
   "outputs": [],
   "source": [
    "for i in arr_of_arr:\n",
    "    print(len(i))\n",
    "print('tlist',len(tlist))"
   ]
  },
  {
   "cell_type": "code",
   "execution_count": null,
   "metadata": {},
   "outputs": [],
   "source": [
    "tlist"
   ]
  },
  {
   "cell_type": "code",
   "execution_count": null,
   "metadata": {},
   "outputs": [],
   "source": [
    "count"
   ]
  },
  {
   "cell_type": "code",
   "execution_count": null,
   "metadata": {
    "scrolled": false
   },
   "outputs": [],
   "source": [
    "for i in arr_of_arr:    \n",
    "    plt.plot(tlist,i)\n",
    "plt.title(r'$\\hat{U}_{cnot}(\\theta), \\; \\theta = 0.1$', fontsize=16)\n",
    "plt.xlabel(r'$i^{th}$ env bit', fontsize=16)\n",
    "plt.ylabel(r'$|\\beta|^2$' , fontsize=16)\n",
    "#plt.ylabel('beta**2')\n",
    "#plt.savefig('Plots/cnot_theta0.1_2.png', dpi = 300)\n",
    "plt.show()"
   ]
  },
  {
   "cell_type": "code",
   "execution_count": null,
   "metadata": {},
   "outputs": [],
   "source": []
  },
  {
   "cell_type": "code",
   "execution_count": 219,
   "metadata": {},
   "outputs": [],
   "source": [
    "# need to figure out how to introduced 2nd environment qubit onwards. \n",
    "# Not sure if mesolve or mcsolve is being used correctly\n",
    "# the state H*psi\n",
    "#figure out pre and post measurement state. then we can tensor on the next env qubit and repeat. \n",
    "#try recursion on eqn 66\n",
    "#check if measurement works by writing a simple 1/root2 0 + 1/root2 1"
   ]
  },
  {
   "cell_type": "code",
   "execution_count": null,
   "metadata": {},
   "outputs": [],
   "source": []
  },
  {
   "cell_type": "code",
   "execution_count": null,
   "metadata": {},
   "outputs": [],
   "source": []
  },
  {
   "cell_type": "code",
   "execution_count": null,
   "metadata": {},
   "outputs": [],
   "source": []
  },
  {
   "cell_type": "code",
   "execution_count": null,
   "metadata": {},
   "outputs": [],
   "source": []
  },
  {
   "cell_type": "code",
   "execution_count": null,
   "metadata": {},
   "outputs": [],
   "source": []
  },
  {
   "cell_type": "code",
   "execution_count": null,
   "metadata": {},
   "outputs": [],
   "source": []
  }
 ],
 "metadata": {
  "kernelspec": {
   "display_name": "Python 3",
   "language": "python",
   "name": "python3"
  },
  "language_info": {
   "codemirror_mode": {
    "name": "ipython",
    "version": 3
   },
   "file_extension": ".py",
   "mimetype": "text/x-python",
   "name": "python",
   "nbconvert_exporter": "python",
   "pygments_lexer": "ipython3",
   "version": "3.8.3"
  }
 },
 "nbformat": 4,
 "nbformat_minor": 4
}
