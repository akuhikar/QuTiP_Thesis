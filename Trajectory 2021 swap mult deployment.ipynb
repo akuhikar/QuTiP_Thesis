{
 "cells": [
  {
   "cell_type": "code",
   "execution_count": 3,
   "metadata": {},
   "outputs": [],
   "source": [
    "from qutip import *\n",
    "from qutip.qip.operations import *\n",
    "import numpy as np\n",
    "import matplotlib.pyplot as plt\n",
    "%matplotlib inline"
   ]
  },
  {
   "cell_type": "code",
   "execution_count": 4,
   "metadata": {},
   "outputs": [],
   "source": [
    "#brute force the alpha beta, no lindblad evolution"
   ]
  },
  {
   "cell_type": "markdown",
   "metadata": {},
   "source": [
    "# Creating arbitrary state"
   ]
  },
  {
   "cell_type": "code",
   "execution_count": 28,
   "metadata": {
    "scrolled": true
   },
   "outputs": [],
   "source": [
    "def genstate():\n",
    "    #every run of this cell will generate new alpha beta\n",
    "    alpha = np.random.random()\n",
    "    beta = np.sqrt(1-alpha**2)\n",
    "    #print('alpha =',alpha, '\\nbeta =', beta, '\\ncheck=', alpha**2+beta**2)\n",
    "    return(alpha, beta)\n",
    "#Note that this does not generate uniform(0,1) for beta."
   ]
  },
  {
   "cell_type": "markdown",
   "metadata": {},
   "source": [
    "# Making Zs operator and SWAP"
   ]
  },
  {
   "cell_type": "code",
   "execution_count": 29,
   "metadata": {},
   "outputs": [],
   "source": [
    "#Zs operator\n",
    "theta = 0.01\n",
    "#weak_sz = np.exp(np.imag*sigmaz()*theta/2)\n",
    "weak_sz = qeye(2) * np.cos(theta/2) + 1*sigmaz() * np.sin(theta/2)\n",
    "Z = tensor(weak_sz, qeye(2))\n",
    "\n",
    "#Ucnot operator\n",
    "weak_sw = tensor(qeye(2),qeye(2)) * np.cos(theta) + 1* swap() * np.sin(theta)\n",
    "\n",
    "#Hamiltonian\n",
    "H = Z*weak_sw"
   ]
  },
  {
   "cell_type": "markdown",
   "metadata": {},
   "source": [
    "# Measurement operators"
   ]
  },
  {
   "cell_type": "code",
   "execution_count": 30,
   "metadata": {},
   "outputs": [],
   "source": [
    "e = basis(2,1)\n",
    "g = basis(2,0)\n",
    "\n",
    "proj0 = g * g.dag()\n",
    "proj1 = e * e.dag()\n",
    "\n",
    "#operators used to change state to post measurement state\n",
    "m0 = tensor(qeye(2), proj0)\n",
    "m1 = tensor(qeye(2), proj1)\n",
    "\n",
    "#operators used to find prob of alpha,beta\n",
    "n0 = tensor(proj0, qeye(2))\n",
    "n1 = tensor(proj1, qeye(2))"
   ]
  },
  {
   "cell_type": "markdown",
   "metadata": {},
   "source": [
    "# Creating post measurement state for each possible outcome and tensoring new env qubit and repeating."
   ]
  },
  {
   "cell_type": "code",
   "execution_count": 45,
   "metadata": {},
   "outputs": [],
   "source": [
    "#arr_of_arr contains every run with different initial states\n",
    "arr_of_arr = []\n",
    "\n",
    "#100 runs will generate 100 curves on the plot\n",
    "\n",
    "for j in range(0,100):\n",
    "    j = j+1\n",
    "    #Generating the system and environment state\n",
    "    alpha, beta = genstate()\n",
    "    sys = (alpha*basis(2,0) + beta*basis(2,1)).unit()\n",
    "    env = basis(2,0)\n",
    "    psi = tensor(sys,g).unit()\n",
    "\n",
    "    ########################################\n",
    "    arr_e0_s0 = []\n",
    "    arr_e0_s1 = []\n",
    "    arr_e1_s0 = []\n",
    "    arr_e1_s1 = []\n",
    "\n",
    "    tlist = []\n",
    "    psit0 = psi\n",
    "    ########################################\n",
    "    \n",
    "    n = 200\n",
    "    for i in range(0,n):\n",
    "        #sets up x axis, number of env bits\n",
    "        tlist = tlist + [i]\n",
    "        #interact with ZUcnot\n",
    "        psiH = (H*psit0).unit()\n",
    "        #prob of no jump\n",
    "        p0 = expect(m0,psiH)\n",
    "        #prob of jump\n",
    "        p1 = 1-p0\n",
    "        #create RNG number r\n",
    "        r = np.random.random()\n",
    "        #no jump case\n",
    "        if(r<p0):\n",
    "            #measure env 0, new state with env 0:\n",
    "            psit0 = (m0*psiH).unit()\n",
    "            #measure beta\n",
    "            e0_s1 = expect(n1,psit0)\n",
    "            arr_e0_s1 = arr_e0_s1 + [e0_s1]\n",
    "            #reinitialize the state            \n",
    "            psit0 = tensor((psit0[0][0][0]*g + psit0[2][0][0]*e), g) \n",
    "            continue\n",
    "        #jump case\n",
    "        else:\n",
    "            count = count + 1\n",
    "            #measure env 1, new state w env 1:\n",
    "            psit0 = (m1*psiH).unit()\n",
    "            #measure beta\n",
    "            e1_s1 = expect(n1,psit0)\n",
    "            arr_e0_s1 = arr_e0_s1 + [e1_s1] + [0]*(n-i-1)\n",
    "            break\n",
    "        #reinitialize, adds new env qubit\n",
    "    arr_of_arr = arr_of_arr + [arr_e0_s1]"
   ]
  },
  {
   "cell_type": "code",
   "execution_count": 43,
   "metadata": {},
   "outputs": [
    {
     "name": "stdout",
     "output_type": "stream",
     "text": [
      "200\n",
      "200\n",
      "200\n",
      "200\n",
      "200\n"
     ]
    }
   ],
   "source": [
    "for i in arr_of_arr:\n",
    "    print(len(i))"
   ]
  },
  {
   "cell_type": "code",
   "execution_count": 44,
   "metadata": {},
   "outputs": [
    {
     "data": {
      "image/png": "[encoded data removed]",
      "text/plain": [
       "<Figure size 432x288 with 1 Axes>"
      ]
     },
     "metadata": {
      "needs_background": "light"
     },
     "output_type": "display_data"
    }
   ],
   "source": [
    "for i in arr_of_arr:    \n",
    "    plt.plot(tlist,i)\n",
    "    plt.title('Theta = 0.1')\n",
    "    plt.xlabel('ith env bit')\n",
    "    plt.ylabel('beta**2')\n",
    "    #plt.legend(('beta', 's1'))\n",
    "plt.show()"
   ]
  },
  {
   "cell_type": "code",
   "execution_count": 36,
   "metadata": {},
   "outputs": [],
   "source": [
    "# need to figure out how to introduced 2nd environment qubit onwards. \n",
    "# Not sure if mesolve or mcsolve is being used correctly\n",
    "# the state H*psi\n",
    "#figure out pre and post measurement state. then we can tensor on the next env qubit and repeat. \n",
    "#try recursion on eqn 66\n",
    "#check if measurement works by writing a simple 1/root2 0 + 1/root2 1"
   ]
  },
  {
   "cell_type": "code",
   "execution_count": null,
   "metadata": {},
   "outputs": [],
   "source": []
  },
  {
   "cell_type": "code",
   "execution_count": null,
   "metadata": {},
   "outputs": [],
   "source": []
  },
  {
   "cell_type": "code",
   "execution_count": null,
   "metadata": {},
   "outputs": [],
   "source": []
  }
 ],
 "metadata": {
  "kernelspec": {
   "display_name": "Python 3",
   "language": "python",
   "name": "python3"
  },
  "language_info": {
   "codemirror_mode": {
    "name": "ipython",
    "version": 3
   },
   "file_extension": ".py",
   "mimetype": "text/x-python",
   "name": "python",
   "nbconvert_exporter": "python",
   "pygments_lexer": "ipython3",
   "version": "3.8.3"
  }
 },
 "nbformat": 4,
 "nbformat_minor": 4
}
